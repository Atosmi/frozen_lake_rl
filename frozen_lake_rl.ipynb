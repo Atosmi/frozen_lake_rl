{
  "cells": [
    {
      "cell_type": "code",
      "execution_count": null,
      "id": "0468f3ea",
      "metadata": {
        "id": "0468f3ea"
      },
      "outputs": [],
      "source": [
        "import gym\n",
        "import numpy as np"
      ]
    },
    {
      "cell_type": "code",
      "source": [
        "!pip install gym[toy_text]"
      ],
      "metadata": {
        "colab": {
          "base_uri": "https://localhost:8080/"
        },
        "id": "4LVXfBGwXKlo",
        "outputId": "fc2254fc-0154-48fe-f36f-42c5b9c1666d"
      },
      "id": "4LVXfBGwXKlo",
      "execution_count": null,
      "outputs": [
        {
          "output_type": "stream",
          "name": "stdout",
          "text": [
            "Looking in indexes: https://pypi.org/simple, https://us-python.pkg.dev/colab-wheels/public/simple/\n",
            "Requirement already satisfied: gym[toy_text] in /usr/local/lib/python3.8/dist-packages (0.25.2)\n",
            "Requirement already satisfied: cloudpickle>=1.2.0 in /usr/local/lib/python3.8/dist-packages (from gym[toy_text]) (2.2.1)\n",
            "Requirement already satisfied: gym-notices>=0.0.4 in /usr/local/lib/python3.8/dist-packages (from gym[toy_text]) (0.0.8)\n",
            "Requirement already satisfied: numpy>=1.18.0 in /usr/local/lib/python3.8/dist-packages (from gym[toy_text]) (1.21.6)\n",
            "Requirement already satisfied: importlib-metadata>=4.8.0 in /usr/local/lib/python3.8/dist-packages (from gym[toy_text]) (6.0.0)\n",
            "Collecting pygame==2.1.0\n",
            "  Downloading pygame-2.1.0-cp38-cp38-manylinux_2_17_x86_64.manylinux2014_x86_64.whl (18.3 MB)\n",
            "\u001b[2K     \u001b[90m━━━━━━━━━━━━━━━━━━━━━━━━━━━━━━━━━━━━━━━━\u001b[0m \u001b[32m18.3/18.3 MB\u001b[0m \u001b[31m34.5 MB/s\u001b[0m eta \u001b[36m0:00:00\u001b[0m\n",
            "\u001b[?25hRequirement already satisfied: zipp>=0.5 in /usr/local/lib/python3.8/dist-packages (from importlib-metadata>=4.8.0->gym[toy_text]) (3.12.0)\n",
            "Installing collected packages: pygame\n",
            "Successfully installed pygame-2.1.0\n"
          ]
        }
      ]
    },
    {
      "cell_type": "code",
      "execution_count": null,
      "id": "99ab9b8c",
      "metadata": {
        "colab": {
          "base_uri": "https://localhost:8080/"
        },
        "id": "99ab9b8c",
        "outputId": "576f27db-62a5-49f0-b9fb-e5878fb6bbe2"
      },
      "outputs": [
        {
          "output_type": "stream",
          "name": "stderr",
          "text": [
            "/usr/local/lib/python3.8/dist-packages/gym/core.py:317: DeprecationWarning: \u001b[33mWARN: Initializing wrapper in old step API which returns one bool instead of two. It is recommended to set `new_step_api=True` to use new step API. This will be the default behaviour in future.\u001b[0m\n",
            "  deprecation(\n",
            "/usr/local/lib/python3.8/dist-packages/gym/wrappers/step_api_compatibility.py:39: DeprecationWarning: \u001b[33mWARN: Initializing environment in old step API which returns one bool instead of two. It is recommended to set `new_step_api=True` to use new step API. This will be the default behaviour in future.\u001b[0m\n",
            "  deprecation(\n"
          ]
        },
        {
          "output_type": "execute_result",
          "data": {
            "text/plain": [
              "0"
            ]
          },
          "metadata": {},
          "execution_count": 20
        }
      ],
      "source": [
        "env = gym.make(\"FrozenLake-v1\")\n",
        "env.reset()"
      ]
    },
    {
      "cell_type": "code",
      "execution_count": null,
      "id": "4b97dae5",
      "metadata": {
        "colab": {
          "base_uri": "https://localhost:8080/"
        },
        "id": "4b97dae5",
        "outputId": "ca500c14-d236-4975-8bb0-e19b65218032"
      },
      "outputs": [
        {
          "output_type": "execute_result",
          "data": {
            "text/plain": [
              "(0, 0.0, False, {'prob': 0.3333333333333333})"
            ]
          },
          "metadata": {},
          "execution_count": 21
        }
      ],
      "source": [
        "env.step(1)"
      ]
    },
    {
      "cell_type": "code",
      "execution_count": null,
      "id": "e3783d8d",
      "metadata": {
        "id": "e3783d8d"
      },
      "outputs": [],
      "source": [
        "random_action = env.action_space.sample()"
      ]
    },
    {
      "cell_type": "code",
      "execution_count": null,
      "id": "7515d646",
      "metadata": {
        "id": "7515d646"
      },
      "outputs": [],
      "source": [
        "next_state,reward,done,info = env.step(random_action)"
      ]
    },
    {
      "cell_type": "code",
      "execution_count": null,
      "id": "bc8f057a",
      "metadata": {
        "id": "bc8f057a"
      },
      "outputs": [],
      "source": [
        "def val_iter(env):\n",
        "    num = 10000\n",
        "    threshold = 1e-20\n",
        "    gamma = 1.0\n",
        "    value_table = np.zeros(env.observation_space.n)\n",
        "    \n",
        "    for i in range(num):\n",
        "        updated_value_table = np.copy(value_table)\n",
        "        \n",
        "        for s in range(env.observation_space.n):\n",
        "            Q_values = [sum([prob*(r+gamma+updated_value_table[s_])\n",
        "                for prob,s_,r,_ in env.P[s][a]])\n",
        "                        for a in range(env.action_space.n)]\n",
        "            \n",
        "            value_table[s] = max(Q_values)\n",
        "            \n",
        "        if(np.sum(np.fabs(updated_value_table - value_table))<=threshold):\n",
        "            print(i)\n",
        "            break\n",
        "    \n",
        "    \n",
        "    return value_table"
      ]
    },
    {
      "cell_type": "code",
      "execution_count": null,
      "id": "2102ea98",
      "metadata": {
        "id": "2102ea98"
      },
      "outputs": [],
      "source": [
        "def extract(value_table):\n",
        "    gamma = 1.0\n",
        "    policy = np.zeros(env.observation_space.n)\n",
        "    \n",
        "    for s in range(env.observation_space.n):\n",
        "        Q_values = [sum([prob*(r+gamma+value_table[s_])\n",
        "                for prob,s_,r,_ in env.P[s][a]])\n",
        "                        for a in range(env.action_space.n)]\n",
        "        \n",
        "        policy[s] = np.argmax(np.array(Q_values))\n",
        "        \n",
        "    return policy"
      ]
    },
    {
      "cell_type": "code",
      "execution_count": null,
      "id": "e80aea8b",
      "metadata": {
        "id": "e80aea8b"
      },
      "outputs": [],
      "source": [
        "optimal_value = val_iter(env)"
      ]
    },
    {
      "cell_type": "code",
      "execution_count": null,
      "id": "244bf776",
      "metadata": {
        "colab": {
          "base_uri": "https://localhost:8080/"
        },
        "id": "244bf776",
        "outputId": "315be965-08f1-4d5a-8b07-15d6d851658b"
      },
      "outputs": [
        {
          "output_type": "execute_result",
          "data": {
            "text/plain": [
              "array([0., 3., 3., 3., 0., 0., 0., 0., 3., 1., 0., 0., 0., 2., 1., 0.])"
            ]
          },
          "metadata": {},
          "execution_count": 10
        }
      ],
      "source": [
        "optimal_policy = extract(optimal_value)\n",
        "optimal_policy"
      ]
    }
  ],
  "metadata": {
    "kernelspec": {
      "display_name": "Python 3 (ipykernel)",
      "language": "python",
      "name": "python3"
    },
    "language_info": {
      "codemirror_mode": {
        "name": "ipython",
        "version": 3
      },
      "file_extension": ".py",
      "mimetype": "text/x-python",
      "name": "python",
      "nbconvert_exporter": "python",
      "pygments_lexer": "ipython3",
      "version": "3.10.8"
    },
    "colab": {
      "provenance": []
    }
  },
  "nbformat": 4,
  "nbformat_minor": 5
}